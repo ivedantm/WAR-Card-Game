{
 "cells": [
  {
   "cell_type": "code",
   "execution_count": 2,
   "id": "60215b24-98e0-4591-a3c8-d5978b30aeed",
   "metadata": {},
   "outputs": [],
   "source": [
    "# CARD\n",
    "# SUIT, RANK, VALUE \n",
    "import random\n",
    "suits = ('Hearts', 'Diamonds', 'Spades', 'Clubs')\n",
    "ranks = ('Two', 'Three', 'Four', 'Five', 'Six', 'Seven', 'Eight', 'Nine', 'Ten', 'Jack', 'Queen', 'King', 'Ace')\n",
    "\n",
    "values = {'Two':2, 'Three':3, 'Four':4, 'Five':5, 'Six':6, 'Seven':7, 'Eight':8, \n",
    "            'Nine':9, 'Ten':10, 'Jack':11, 'Queen':12, 'King':13, 'Ace':14}"
   ]
  },
  {
   "cell_type": "code",
   "execution_count": 3,
   "id": "370df4ee-ff04-48e4-831a-bcbd4f1b6ea9",
   "metadata": {},
   "outputs": [],
   "source": [
    "class Card():\n",
    "    def __init__(self,suit,rank):\n",
    "        self.suit = suit \n",
    "        self.rank = rank\n",
    "        self.value = values[rank]\n",
    "\n",
    "    def __str__(self):\n",
    "        return self.rank + \" of \" + self.suit\n",
    "        \n",
    "    "
   ]
  },
  {
   "cell_type": "code",
   "execution_count": 4,
   "id": "47d937bd-6c22-4777-a82d-ec27af597dda",
   "metadata": {},
   "outputs": [],
   "source": [
    "two_hearts = Card(\"Hearts\", \"Two\")"
   ]
  },
  {
   "cell_type": "code",
   "execution_count": 5,
   "id": "bed9438d-afd2-48cb-a8b2-c862ccdcb073",
   "metadata": {},
   "outputs": [
    {
     "data": {
      "text/plain": [
       "<__main__.Card at 0x1069c6120>"
      ]
     },
     "execution_count": 5,
     "metadata": {},
     "output_type": "execute_result"
    }
   ],
   "source": [
    "two_hearts "
   ]
  },
  {
   "cell_type": "code",
   "execution_count": 6,
   "id": "a385bb5e-f404-4afa-a3a1-00a2d5763861",
   "metadata": {},
   "outputs": [
    {
     "name": "stdout",
     "output_type": "stream",
     "text": [
      "Two of Hearts\n"
     ]
    }
   ],
   "source": [
    "print(two_hearts)"
   ]
  },
  {
   "cell_type": "code",
   "execution_count": 7,
   "id": "6fe4de06-6a0b-458d-aa4d-485649e30820",
   "metadata": {},
   "outputs": [
    {
     "data": {
      "text/plain": [
       "'Hearts'"
      ]
     },
     "execution_count": 7,
     "metadata": {},
     "output_type": "execute_result"
    }
   ],
   "source": [
    "two_hearts.suit\n"
   ]
  },
  {
   "cell_type": "code",
   "execution_count": 8,
   "id": "29b18dc0-2137-4fc8-9699-bd12bd30bc85",
   "metadata": {},
   "outputs": [
    {
     "data": {
      "text/plain": [
       "'Two'"
      ]
     },
     "execution_count": 8,
     "metadata": {},
     "output_type": "execute_result"
    }
   ],
   "source": [
    "two_hearts.rank"
   ]
  },
  {
   "cell_type": "code",
   "execution_count": null,
   "id": "0d5251f9-8ebd-4275-91a4-76fadfae559d",
   "metadata": {},
   "outputs": [],
   "source": []
  },
  {
   "cell_type": "code",
   "execution_count": 9,
   "id": "200e0fc0-60e5-414f-9a22-13b7868d2ce4",
   "metadata": {},
   "outputs": [
    {
     "data": {
      "text/plain": [
       "2"
      ]
     },
     "execution_count": 9,
     "metadata": {},
     "output_type": "execute_result"
    }
   ],
   "source": [
    "values[two_hearts.rank]"
   ]
  },
  {
   "cell_type": "code",
   "execution_count": 10,
   "id": "7b2b4f11-a483-4a8b-9e90-25e7b1df649a",
   "metadata": {},
   "outputs": [],
   "source": [
    "three_of_clubs = Card('Clubs','Three')"
   ]
  },
  {
   "cell_type": "code",
   "execution_count": 11,
   "id": "e1fc85a3-1ee9-453d-8221-3ce5574c5548",
   "metadata": {},
   "outputs": [
    {
     "data": {
      "text/plain": [
       "'Three'"
      ]
     },
     "execution_count": 11,
     "metadata": {},
     "output_type": "execute_result"
    }
   ],
   "source": [
    "three_of_clubs.rank"
   ]
  },
  {
   "cell_type": "code",
   "execution_count": 12,
   "id": "d31a8e33-fe07-4c75-85b1-6a2714233583",
   "metadata": {},
   "outputs": [
    {
     "data": {
      "text/plain": [
       "3"
      ]
     },
     "execution_count": 12,
     "metadata": {},
     "output_type": "execute_result"
    }
   ],
   "source": [
    "three_of_clubs.value"
   ]
  },
  {
   "cell_type": "code",
   "execution_count": 13,
   "id": "a48c1d49-37fe-4c9d-9a01-31c49333833a",
   "metadata": {},
   "outputs": [
    {
     "data": {
      "text/plain": [
       "2"
      ]
     },
     "execution_count": 13,
     "metadata": {},
     "output_type": "execute_result"
    }
   ],
   "source": [
    "two_hearts.value"
   ]
  },
  {
   "cell_type": "code",
   "execution_count": 14,
   "id": "03dd56ed-e38b-4d21-aa74-d8f164a20b57",
   "metadata": {},
   "outputs": [
    {
     "data": {
      "text/plain": [
       "True"
      ]
     },
     "execution_count": 14,
     "metadata": {},
     "output_type": "execute_result"
    }
   ],
   "source": [
    "two_hearts.value < three_of_clubs.value"
   ]
  },
  {
   "cell_type": "code",
   "execution_count": null,
   "id": "f9bf70aa-acfd-4a11-affe-d70eea41d156",
   "metadata": {},
   "outputs": [],
   "source": []
  },
  {
   "cell_type": "code",
   "execution_count": 15,
   "id": "e36a002e-12c2-41d1-a176-51277eb52916",
   "metadata": {},
   "outputs": [],
   "source": [
    "class Deck():\n",
    "    def __init__(self):\n",
    "        \n",
    "        self.all_cards = []\n",
    "\n",
    "        for suit in suits:\n",
    "            for rank in ranks:\n",
    "                # Create the Card object\n",
    "                created_card = Card(suit,rank)\n",
    "                \n",
    "                self.all_cards.append(created_card)\n",
    "\n",
    "    def shuffle(self):\n",
    "\n",
    "        random.shuffle(self.all_cards)\n",
    "\n",
    "    def deal_one(self):\n",
    "        return self.all_cards.pop()"
   ]
  },
  {
   "cell_type": "code",
   "execution_count": 16,
   "id": "f221728e-c6f5-4385-96fa-b9d7eaf6a409",
   "metadata": {},
   "outputs": [],
   "source": [
    "new_deck = Deck()"
   ]
  },
  {
   "cell_type": "code",
   "execution_count": 17,
   "id": "61181aa1-6b2a-4d0b-bf74-0543b20a15a7",
   "metadata": {},
   "outputs": [
    {
     "data": {
      "text/plain": [
       "[<__main__.Card at 0x111bf6ad0>,\n",
       " <__main__.Card at 0x106947bb0>,\n",
       " <__main__.Card at 0x106947e10>,\n",
       " <__main__.Card at 0x1069cf1d0>,\n",
       " <__main__.Card at 0x1069ae580>,\n",
       " <__main__.Card at 0x1069ae8b0>,\n",
       " <__main__.Card at 0x111d34050>,\n",
       " <__main__.Card at 0x111d34250>,\n",
       " <__main__.Card at 0x111d0e5d0>,\n",
       " <__main__.Card at 0x111d0ea80>,\n",
       " <__main__.Card at 0x111d20f30>,\n",
       " <__main__.Card at 0x111d210f0>,\n",
       " <__main__.Card at 0x1113ddf30>,\n",
       " <__main__.Card at 0x111d007d0>,\n",
       " <__main__.Card at 0x111d00710>,\n",
       " <__main__.Card at 0x1069b6fc0>,\n",
       " <__main__.Card at 0x1069b7d80>,\n",
       " <__main__.Card at 0x111d5c5f0>,\n",
       " <__main__.Card at 0x111d5c2d0>,\n",
       " <__main__.Card at 0x106f939b0>,\n",
       " <__main__.Card at 0x111d2f050>,\n",
       " <__main__.Card at 0x111d2dd50>,\n",
       " <__main__.Card at 0x111a85ef0>,\n",
       " <__main__.Card at 0x111a85f60>,\n",
       " <__main__.Card at 0x111a5bc50>,\n",
       " <__main__.Card at 0x111d3cd70>,\n",
       " <__main__.Card at 0x111d3d0d0>,\n",
       " <__main__.Card at 0x111d3ce90>,\n",
       " <__main__.Card at 0x111d3d010>,\n",
       " <__main__.Card at 0x111d3d070>,\n",
       " <__main__.Card at 0x111d3d1f0>,\n",
       " <__main__.Card at 0x111d3d250>,\n",
       " <__main__.Card at 0x111d3d2b0>,\n",
       " <__main__.Card at 0x111d3d310>,\n",
       " <__main__.Card at 0x111d3d370>,\n",
       " <__main__.Card at 0x111d3d3d0>,\n",
       " <__main__.Card at 0x111d3d430>,\n",
       " <__main__.Card at 0x111d3d490>,\n",
       " <__main__.Card at 0x111d3d4f0>,\n",
       " <__main__.Card at 0x111d3d550>,\n",
       " <__main__.Card at 0x111d3d5b0>,\n",
       " <__main__.Card at 0x111d3d610>,\n",
       " <__main__.Card at 0x111d3d670>,\n",
       " <__main__.Card at 0x111d3d6d0>,\n",
       " <__main__.Card at 0x111d3d730>,\n",
       " <__main__.Card at 0x111d3d790>,\n",
       " <__main__.Card at 0x111d3d7f0>,\n",
       " <__main__.Card at 0x111d3d850>,\n",
       " <__main__.Card at 0x111d3d8b0>,\n",
       " <__main__.Card at 0x111d3d910>,\n",
       " <__main__.Card at 0x111d3d970>,\n",
       " <__main__.Card at 0x111d3d9d0>]"
      ]
     },
     "execution_count": 17,
     "metadata": {},
     "output_type": "execute_result"
    }
   ],
   "source": [
    "new_deck.all_cards"
   ]
  },
  {
   "cell_type": "code",
   "execution_count": 18,
   "id": "a7621636-38be-4083-ae25-5b0654dff2ab",
   "metadata": {},
   "outputs": [],
   "source": [
    "first_card = new_deck.all_cards[0]"
   ]
  },
  {
   "cell_type": "code",
   "execution_count": 19,
   "id": "3b2b02d7-3b35-4529-b358-65d9f7d4f468",
   "metadata": {},
   "outputs": [
    {
     "name": "stdout",
     "output_type": "stream",
     "text": [
      "Two of Hearts\n"
     ]
    }
   ],
   "source": [
    "print(first_card)"
   ]
  },
  {
   "cell_type": "code",
   "execution_count": 20,
   "id": "83248dd3-0c04-4ab0-a829-2b21d6b3055c",
   "metadata": {},
   "outputs": [],
   "source": [
    "bottom_card = new_deck.all_cards[-1]"
   ]
  },
  {
   "cell_type": "code",
   "execution_count": 21,
   "id": "6d0cffab-f4d1-4fad-a806-6126903991da",
   "metadata": {},
   "outputs": [
    {
     "name": "stdout",
     "output_type": "stream",
     "text": [
      "Ace of Clubs\n"
     ]
    }
   ],
   "source": [
    "print(bottom_card)"
   ]
  },
  {
   "cell_type": "code",
   "execution_count": 22,
   "id": "37a239fc-7f85-46ea-86fc-31622f08b954",
   "metadata": {},
   "outputs": [
    {
     "name": "stdout",
     "output_type": "stream",
     "text": [
      "Two of Hearts\n",
      "Three of Hearts\n",
      "Four of Hearts\n",
      "Five of Hearts\n",
      "Six of Hearts\n",
      "Seven of Hearts\n",
      "Eight of Hearts\n",
      "Nine of Hearts\n",
      "Ten of Hearts\n",
      "Jack of Hearts\n",
      "Queen of Hearts\n",
      "King of Hearts\n",
      "Ace of Hearts\n",
      "Two of Diamonds\n",
      "Three of Diamonds\n",
      "Four of Diamonds\n",
      "Five of Diamonds\n",
      "Six of Diamonds\n",
      "Seven of Diamonds\n",
      "Eight of Diamonds\n",
      "Nine of Diamonds\n",
      "Ten of Diamonds\n",
      "Jack of Diamonds\n",
      "Queen of Diamonds\n",
      "King of Diamonds\n",
      "Ace of Diamonds\n",
      "Two of Spades\n",
      "Three of Spades\n",
      "Four of Spades\n",
      "Five of Spades\n",
      "Six of Spades\n",
      "Seven of Spades\n",
      "Eight of Spades\n",
      "Nine of Spades\n",
      "Ten of Spades\n",
      "Jack of Spades\n",
      "Queen of Spades\n",
      "King of Spades\n",
      "Ace of Spades\n",
      "Two of Clubs\n",
      "Three of Clubs\n",
      "Four of Clubs\n",
      "Five of Clubs\n",
      "Six of Clubs\n",
      "Seven of Clubs\n",
      "Eight of Clubs\n",
      "Nine of Clubs\n",
      "Ten of Clubs\n",
      "Jack of Clubs\n",
      "Queen of Clubs\n",
      "King of Clubs\n",
      "Ace of Clubs\n"
     ]
    }
   ],
   "source": [
    "for card_object in new_deck.all_cards:\n",
    "    print(card_object)"
   ]
  },
  {
   "cell_type": "code",
   "execution_count": 23,
   "id": "5b329a15-9379-42ee-8eb3-788db5ea01c5",
   "metadata": {},
   "outputs": [],
   "source": [
    "new_deck.shuffle()"
   ]
  },
  {
   "cell_type": "code",
   "execution_count": 24,
   "id": "5cc87b22-cb33-40ed-bf1b-80aa47189367",
   "metadata": {},
   "outputs": [
    {
     "name": "stdout",
     "output_type": "stream",
     "text": [
      "Ten of Clubs\n",
      "Two of Spades\n",
      "Eight of Diamonds\n",
      "Three of Clubs\n",
      "Jack of Clubs\n",
      "Ten of Diamonds\n",
      "Nine of Spades\n",
      "Ace of Clubs\n",
      "Two of Clubs\n",
      "Five of Hearts\n",
      "Eight of Hearts\n",
      "King of Diamonds\n",
      "Queen of Diamonds\n",
      "Three of Spades\n",
      "Five of Diamonds\n",
      "Jack of Spades\n",
      "Five of Clubs\n",
      "Four of Clubs\n",
      "King of Spades\n",
      "Five of Spades\n",
      "Jack of Hearts\n",
      "Four of Diamonds\n",
      "King of Hearts\n",
      "Four of Spades\n",
      "Six of Diamonds\n",
      "Nine of Hearts\n",
      "Nine of Diamonds\n",
      "Six of Spades\n",
      "Queen of Clubs\n",
      "Ten of Hearts\n",
      "Ace of Spades\n",
      "Jack of Diamonds\n",
      "Seven of Spades\n",
      "King of Clubs\n",
      "Seven of Clubs\n",
      "Queen of Hearts\n",
      "Eight of Clubs\n",
      "Two of Hearts\n",
      "Ace of Hearts\n",
      "Eight of Spades\n",
      "Seven of Hearts\n",
      "Six of Hearts\n",
      "Four of Hearts\n",
      "Six of Clubs\n",
      "Two of Diamonds\n",
      "Ten of Spades\n",
      "Three of Hearts\n",
      "Queen of Spades\n",
      "Ace of Diamonds\n",
      "Nine of Clubs\n",
      "Three of Diamonds\n",
      "Seven of Diamonds\n"
     ]
    }
   ],
   "source": [
    "for card_object in new_deck.all_cards:\n",
    "    print(card_object)"
   ]
  },
  {
   "cell_type": "code",
   "execution_count": 25,
   "id": "18bae69d-4a10-465e-992c-518ce20367bf",
   "metadata": {},
   "outputs": [],
   "source": [
    "new_deck.shuffle()"
   ]
  },
  {
   "cell_type": "code",
   "execution_count": 26,
   "id": "e3d68d6f-5b61-42e1-ac08-25dfb9e2c295",
   "metadata": {},
   "outputs": [],
   "source": [
    "mycard = new_deck.deal_one()"
   ]
  },
  {
   "cell_type": "code",
   "execution_count": 27,
   "id": "f6d7487d-cf82-4cd6-ba5a-6e80a9d94d8b",
   "metadata": {},
   "outputs": [
    {
     "name": "stdout",
     "output_type": "stream",
     "text": [
      "Seven of Spades\n"
     ]
    }
   ],
   "source": [
    "print(mycard)"
   ]
  },
  {
   "cell_type": "code",
   "execution_count": 28,
   "id": "73c60da1-2f9a-48b7-b253-e3d149cfac64",
   "metadata": {},
   "outputs": [
    {
     "data": {
      "text/plain": [
       "51"
      ]
     },
     "execution_count": 28,
     "metadata": {},
     "output_type": "execute_result"
    }
   ],
   "source": [
    "len(new_deck.all_cards)"
   ]
  },
  {
   "cell_type": "code",
   "execution_count": 29,
   "id": "20eb0380-aca0-41d9-887e-cd4c668d2d3a",
   "metadata": {},
   "outputs": [],
   "source": [
    "class Player():\n",
    "\n",
    "    def __init__(self,name):\n",
    "        self.name = name\n",
    "        self.all_cards = []\n",
    "\n",
    "    def remove_one(self):\n",
    "        return self.all_cards.pop(0)\n",
    "\n",
    "    def add_cards(self,new_cards):\n",
    "        if type(new_cards) == type([]):\n",
    "            self.all_cards.extend(new_cards)\n",
    "        else:\n",
    "            self.all_cards.append(new_cards)\n",
    "        \n",
    "\n",
    "    def __str__(self):\n",
    "        return f'Player {self.name} has {len(self.all_cards)} cards'"
   ]
  },
  {
   "cell_type": "code",
   "execution_count": 30,
   "id": "67986e3e-6f2f-49b0-a62c-673f25a6cc57",
   "metadata": {},
   "outputs": [],
   "source": [
    "new_player = Player('Jose')"
   ]
  },
  {
   "cell_type": "code",
   "execution_count": 31,
   "id": "6fa34ce2-d63a-4905-809a-693f28a4e4fc",
   "metadata": {},
   "outputs": [
    {
     "name": "stdout",
     "output_type": "stream",
     "text": [
      "Player Jose has 0 cards\n"
     ]
    }
   ],
   "source": [
    "print(new_player)"
   ]
  },
  {
   "cell_type": "code",
   "execution_count": 32,
   "id": "4eca4333-1941-4985-b9d7-b421c370d241",
   "metadata": {},
   "outputs": [],
   "source": [
    "new_player.add_cards(mycard)"
   ]
  },
  {
   "cell_type": "code",
   "execution_count": 33,
   "id": "3226b7d3-8dc9-45ed-be74-c1b3eb604f69",
   "metadata": {},
   "outputs": [
    {
     "name": "stdout",
     "output_type": "stream",
     "text": [
      "Seven of Spades\n"
     ]
    }
   ],
   "source": [
    "print(mycard)"
   ]
  },
  {
   "cell_type": "code",
   "execution_count": 34,
   "id": "38a04254-71ae-4e3c-9c7d-49cbee9e7253",
   "metadata": {},
   "outputs": [
    {
     "name": "stdout",
     "output_type": "stream",
     "text": [
      "Player Jose has 1 cards\n"
     ]
    }
   ],
   "source": [
    "print(new_player)"
   ]
  },
  {
   "cell_type": "code",
   "execution_count": 35,
   "id": "eaaa0fbc-624b-4acc-88df-9597f11b99cc",
   "metadata": {},
   "outputs": [
    {
     "name": "stdout",
     "output_type": "stream",
     "text": [
      "Seven of Spades\n"
     ]
    }
   ],
   "source": [
    "print(new_player.all_cards[0])"
   ]
  },
  {
   "cell_type": "code",
   "execution_count": 36,
   "id": "feb7fb43-db92-4749-b9d1-c5a86d38f19f",
   "metadata": {},
   "outputs": [],
   "source": [
    "new_player.add_cards([mycard,mycard,mycard])"
   ]
  },
  {
   "cell_type": "code",
   "execution_count": 37,
   "id": "520d9a20-0bb9-45b9-a70e-9e266bc1f522",
   "metadata": {},
   "outputs": [
    {
     "name": "stdout",
     "output_type": "stream",
     "text": [
      "Player Jose has 4 cards\n"
     ]
    }
   ],
   "source": [
    "print(new_player)"
   ]
  },
  {
   "cell_type": "code",
   "execution_count": 38,
   "id": "83a99cf3-2739-4c77-9a69-00086aaa6ea5",
   "metadata": {},
   "outputs": [
    {
     "name": "stdout",
     "output_type": "stream",
     "text": [
      "Seven of Spades\n"
     ]
    }
   ],
   "source": [
    "print(new_player.remove_one())"
   ]
  },
  {
   "cell_type": "code",
   "execution_count": 42,
   "id": "53ce6b26-865f-4d68-8245-6121d7a2a07d",
   "metadata": {},
   "outputs": [],
   "source": [
    "# GAME SETUP\n",
    "player_one = Player('one')\n",
    "player_two = Player('two')\n",
    "\n",
    "new_deck = Deck()\n",
    "new_deck.shuffle()\n",
    "\n",
    "for x in range(26):\n",
    "    player_one.add_cards(new_deck.deal_one())\n",
    "    player_two.add_cards(new_deck.deal_one())"
   ]
  },
  {
   "cell_type": "code",
   "execution_count": 40,
   "id": "52f6e6b2-e98c-45ce-afed-8ed952ce3809",
   "metadata": {},
   "outputs": [],
   "source": [
    "game_on = True"
   ]
  },
  {
   "cell_type": "code",
   "execution_count": 41,
   "id": "587a31fc-afa7-43b0-b797-e8e634cc904d",
   "metadata": {},
   "outputs": [
    {
     "name": "stdout",
     "output_type": "stream",
     "text": [
      "Round 1\n",
      "Round 2\n",
      "Round 3\n",
      "Round 4\n",
      "Round 5\n",
      "Round 6\n",
      "Round 7\n",
      "Round 8\n",
      "Round 9\n",
      "Round 10\n",
      "Round 11\n",
      "Round 12\n",
      "Round 13\n",
      "Round 14\n",
      "Round 15\n",
      "Round 16\n",
      "Round 17\n",
      "Round 18\n",
      "Round 19\n",
      "Round 20\n",
      "Round 21\n",
      "Round 22\n",
      "Round 23\n",
      "Round 24\n",
      "Round 25\n",
      "Round 26\n",
      "Round 27\n",
      "Round 28\n",
      "Round 29\n",
      "Round 30\n",
      "Round 31\n",
      "Round 32\n",
      "Round 33\n",
      "Round 34\n",
      "Round 35\n",
      "Round 36\n",
      "WAR\n",
      "Round 37\n",
      "Round 38\n",
      "Round 39\n",
      "Round 40\n",
      "Round 41\n",
      "Round 42\n",
      "WAR\n",
      "Round 43\n",
      "Round 44\n",
      "Round 45\n",
      "Round 46\n",
      "Round 47\n",
      "Round 48\n",
      "Round 49\n",
      "Round 50\n",
      "Round 51\n",
      "Round 52\n",
      "Round 53\n",
      "Round 54\n",
      "Round 55\n",
      "Round 56\n",
      "Round 57\n",
      "Round 58\n",
      "Round 59\n",
      "Round 60\n",
      "Round 61\n",
      "Round 62\n",
      "Round 63\n",
      "Round 64\n",
      "Round 65\n",
      "WAR\n",
      "Round 66\n",
      "Round 67\n",
      "Round 68\n",
      "Round 69\n",
      "Round 70\n",
      "Round 71\n",
      "Round 72\n",
      "Round 73\n",
      "Round 74\n",
      "Round 75\n",
      "Round 76\n",
      "Round 77\n",
      "Round 78\n",
      "Round 79\n",
      "Round 80\n",
      "Round 81\n",
      "Round 82\n",
      "Round 83\n",
      "Round 84\n",
      "Round 85\n",
      "Round 86\n",
      "Round 87\n",
      "Round 88\n",
      "Round 89\n",
      "Round 90\n",
      "Round 91\n",
      "Round 92\n",
      "Round 93\n",
      "WAR\n",
      "Player One unable to declare war\n",
      "Player TWO Wins!\n",
      "Round 94\n",
      "Round 95\n",
      "Round 96\n",
      "Round 97\n",
      "WAR\n",
      "Player One unable to declare war\n",
      "Player TWO Wins!\n",
      "Round 98\n",
      "Round 99\n",
      "Round 100\n",
      "Player One, out of cards! Player Two Wins\n"
     ]
    }
   ],
   "source": [
    "round_num = 0\n",
    "\n",
    "while game_on:\n",
    "    round_num +=1\n",
    "    print(f'Round {round_num}')\n",
    "\n",
    "    if len(player_one.all_cards) == 0:\n",
    "        print('Player One, out of cards! Player Two Wins')\n",
    "        game_on = False\n",
    "        break\n",
    "\n",
    "    if len(player_two.all_cards) == 0:\n",
    "        print('Player Two, out of cards! Player One Wins')\n",
    "        game_on = False\n",
    "        break\n",
    "\n",
    "    # START A NEW ROUND\n",
    "    player_one_cards = []\n",
    "    player_one_cards.append(player_one.remove_one())\n",
    "\n",
    "    player_two_cards = []\n",
    "    player_two_cards.append(player_two.remove_one())\n",
    "\n",
    "    at_war = True \n",
    "    while at_war: \n",
    "\n",
    "        if player_one_cards[-1].value > player_two_cards[-1].value:\n",
    "\n",
    "            player_one.add_cards(player_one_cards)\n",
    "            player_one.add_cards(player_two_cards)\n",
    "\n",
    "            at_war = False\n",
    "\n",
    "        elif player_one_cards[-1].value < player_two_cards[-1].value:\n",
    "\n",
    "            player_two.add_cards(player_one_cards)\n",
    "            player_two.add_cards(player_two_cards)\n",
    "\n",
    "            at_war = False\n",
    "\n",
    "        else:\n",
    "            print(\"WAR\")\n",
    "\n",
    "            if len(player_one.all_cards) < 5:\n",
    "                print(\"Player One unable to declare war\")\n",
    "                print(\"Player TWO Wins!\")\n",
    "                game_one = False\n",
    "                break\n",
    "\n",
    "            elif len(player_two.all_cards) < 5:\n",
    "                print(\"Player TWo unable to declare war\")\n",
    "                print(\"Player One Wins!\")\n",
    "                game_one = False\n",
    "                break\n",
    "\n",
    "            else: \n",
    "                for num in range(5): \n",
    "                    player_one_cards.append(player_one.remove_one())\n",
    "                    player_two_cards.append(player_two.remove_one())\n",
    "\n",
    "    "
   ]
  },
  {
   "cell_type": "code",
   "execution_count": null,
   "id": "e0f68579-9a97-4cf4-aec9-30ce64e47933",
   "metadata": {},
   "outputs": [],
   "source": []
  }
 ],
 "metadata": {
  "kernelspec": {
   "display_name": "Python 3 (ipykernel)",
   "language": "python",
   "name": "python3"
  },
  "language_info": {
   "codemirror_mode": {
    "name": "ipython",
    "version": 3
   },
   "file_extension": ".py",
   "mimetype": "text/x-python",
   "name": "python",
   "nbconvert_exporter": "python",
   "pygments_lexer": "ipython3",
   "version": "3.13.5"
  }
 },
 "nbformat": 4,
 "nbformat_minor": 5
}
